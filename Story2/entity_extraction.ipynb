{
 "cells": [
  {
   "cell_type": "code",
   "execution_count": 1,
   "id": "1edbd35f",
   "metadata": {},
   "outputs": [],
   "source": [
    "import pandas as pd\n",
    "import os\n",
    "import json\n",
    "from dotenv import load_dotenv\n",
    "from openai import OpenAI\n",
    "\n",
    "client = OpenAI()"
   ]
  },
  {
   "cell_type": "code",
   "execution_count": 2,
   "id": "e5eca04d",
   "metadata": {},
   "outputs": [],
   "source": [
    "# variables\n",
    "load_dotenv()\n",
    "api_key = os.getenv(\"OPENAI_API_KEY\")\n",
    "\n",
    "# models\n",
    "cheap = 'gpt-4o'\n",
    "best = 'o3'\n",
    "\n",
    "# prompts and schemas\n",
    "from prompts import PROMPT_FULL, PROMPT_CONCEPTS, PROMPT_INTERVENTIONS, PROMPT_EDGES\n",
    "from schemas import SCHEMA_FULL, SCHEMA_CONCEPTS, SCHEMA_INTERVENTIONS, SCHEMA_EDGES\n",
    "\n",
    "# papers\n",
    "input_dir = '../inputdata_development_paper_set'\n",
    "output_dir = 'outputs'\n",
    "paper = '2307.16513v2.pdf'"
   ]
  },
  {
   "cell_type": "code",
   "execution_count": null,
   "id": "82da4bf3",
   "metadata": {},
   "outputs": [],
   "source": [
    "# test api\n",
    "# response = client.responses.create(\n",
    "#     model=best,\n",
    "#     input='This is a test, say hello.'\n",
    "# )\n",
    "\n",
    "# print(response.output_text)"
   ]
  },
  {
   "cell_type": "code",
   "execution_count": 3,
   "id": "939a7f28",
   "metadata": {},
   "outputs": [],
   "source": [
    "# prompt with paper only\n",
    "def prompt_paper(input_path: str, output_path: str, prompt_text: str, json_schema: dict,  model: str = 'gpt-4o'):\n",
    "\n",
    "    file = client.files.create(\n",
    "        file=open(input_path, \"rb\"),\n",
    "        purpose=\"user_data\"\n",
    "    )\n",
    "    file_id = file.id\n",
    "\n",
    "    input = [\n",
    "        {\n",
    "            \"role\": \"user\",\n",
    "            \"content\": [\n",
    "                {\n",
    "                    \"type\": \"input_file\",\n",
    "                    \"file_id\": file_id\n",
    "                },\n",
    "                {\n",
    "                    \"type\": \"input_text\",\n",
    "                    \"text\": prompt_text\n",
    "                }\n",
    "            ]\n",
    "        }\n",
    "    ]\n",
    "\n",
    "    response = client.responses.create(\n",
    "        model=model,\n",
    "        input=input\n",
    "    )\n",
    "\n",
    "    data = json.loads(response.output_text)\n",
    "    \n",
    "    with open(output_path, \"w\", encoding=\"utf-8\") as f:\n",
    "        json.dump(data, f, ensure_ascii=False, indent=2)\n",
    "\n",
    "    return response"
   ]
  },
  {
   "cell_type": "code",
   "execution_count": 4,
   "id": "008ffceb",
   "metadata": {},
   "outputs": [],
   "source": [
    "# full prompt\n",
    "full_resp = prompt_paper(\n",
    "    input_path=os.path.join(input_dir, paper),\n",
    "    output_path=os.path.join(output_dir, paper + \"_full.json\"),\n",
    "    prompt_text=PROMPT_FULL,\n",
    "    json_schema=SCHEMA_FULL,\n",
    "    model=best\n",
    ")"
   ]
  },
  {
   "cell_type": "code",
   "execution_count": 5,
   "id": "20be150d",
   "metadata": {},
   "outputs": [],
   "source": [
    "# concepts prompt\n",
    "concepts_resp = prompt_paper(\n",
    "    input_path=os.path.join(input_dir, paper),\n",
    "    output_path=os.path.join(output_dir, paper + \"_concepts.json\"),\n",
    "    prompt_text=PROMPT_CONCEPTS,\n",
    "    json_schema=SCHEMA_CONCEPTS,\n",
    "    model=best\n",
    ")"
   ]
  },
  {
   "cell_type": "code",
   "execution_count": 6,
   "id": "80783751",
   "metadata": {},
   "outputs": [],
   "source": [
    "# interventions prompt\n",
    "concepts_resp = prompt_paper(\n",
    "    input_path=os.path.join(input_dir, paper),\n",
    "    output_path=os.path.join(output_dir, paper + \"_interventions.json\"),\n",
    "    prompt_text=PROMPT_INTERVENTIONS,\n",
    "    json_schema=SCHEMA_INTERVENTIONS,\n",
    "    model=best\n",
    ")"
   ]
  },
  {
   "cell_type": "code",
   "execution_count": null,
   "id": "401d16a9",
   "metadata": {},
   "outputs": [],
   "source": [
    "# edges prompt\n",
    "\n",
    "# working ..\n",
    "# edges_resp = prompt_json_paper(\n",
    "#     input_path=os.path.join(input_dir, paper),\n",
    "#     output_path=os.path.join(output_dir, paper + \"_full.json\"),\n",
    "#     prompt_text=PROMPT_INTERVENTIONS,\n",
    "#     json_schema=SCHEMA_INTERVENTIONS,\n",
    "#     model=best\n",
    "# )"
   ]
  }
 ],
 "metadata": {
  "kernelspec": {
   "display_name": "AISafetyIntervention_LiteratureExtraction (3.13.3)",
   "language": "python",
   "name": "python3"
  },
  "language_info": {
   "codemirror_mode": {
    "name": "ipython",
    "version": 3
   },
   "file_extension": ".py",
   "mimetype": "text/x-python",
   "name": "python",
   "nbconvert_exporter": "python",
   "pygments_lexer": "ipython3",
   "version": "3.13.3"
  }
 },
 "nbformat": 4,
 "nbformat_minor": 5
}
